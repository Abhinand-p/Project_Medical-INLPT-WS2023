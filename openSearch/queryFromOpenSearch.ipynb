{
 "cells": [
  {
   "cell_type": "markdown",
   "metadata": {},
   "source": [
    "<h3>How to query from opeSearch<h3>"
   ]
  },
  {
   "cell_type": "code",
   "execution_count": 15,
   "metadata": {},
   "outputs": [],
   "source": [
    "from sentence_transformers import SentenceTransformer\n",
    "from opensearchpy import OpenSearch"
   ]
  },
  {
   "cell_type": "markdown",
   "metadata": {},
   "source": [
    "<h3>Connect to Open Search<h3>"
   ]
  },
  {
   "cell_type": "code",
   "execution_count": 2,
   "metadata": {},
   "outputs": [
    {
     "name": "stderr",
     "output_type": "stream",
     "text": [
      "C:\\Users\\Admin\\AppData\\Local\\Packages\\PythonSoftwareFoundation.Python.3.11_qbz5n2kfra8p0\\LocalCache\\local-packages\\Python311\\site-packages\\opensearchpy\\connection\\http_urllib3.py:208: UserWarning: Connecting to https://localhost:9200 using SSL with verify_certs=False is insecure.\n",
      "  warnings.warn(\n",
      "C:\\Users\\Admin\\AppData\\Local\\Packages\\PythonSoftwareFoundation.Python.3.11_qbz5n2kfra8p0\\LocalCache\\local-packages\\Python311\\site-packages\\urllib3\\connectionpool.py:1099: InsecureRequestWarning: Unverified HTTPS request is being made to host 'localhost'. Adding certificate verification is strongly advised. See: https://urllib3.readthedocs.io/en/latest/advanced-usage.html#tls-warnings\n",
      "  warnings.warn(\n"
     ]
    },
    {
     "name": "stdout",
     "output_type": "stream",
     "text": [
      "{'name': 'opensearch-node1', 'cluster_name': 'opensearch-cluster', 'cluster_uuid': '9-DZHZnpTD6C8DMtz6Ys0w', 'version': {'distribution': 'opensearch', 'number': '2.11.1', 'build_type': 'tar', 'build_hash': '6b1986e964d440be9137eba1413015c31c5a7752', 'build_date': '2023-11-29T21:43:10.135035992Z', 'build_snapshot': False, 'lucene_version': '9.7.0', 'minimum_wire_compatibility_version': '7.10.0', 'minimum_index_compatibility_version': '7.0.0'}, 'tagline': 'The OpenSearch Project: https://opensearch.org/'}\n"
     ]
    }
   ],
   "source": [
    "#Initialize connection to opensearch\n",
    "host = 'localhost'\n",
    "port = 9200\n",
    "auth = ('admin', 'admin') \n",
    "\n",
    "client = OpenSearch(\n",
    "    hosts = [{'host': host, 'port': port}],\n",
    "    http_auth = auth,\n",
    "    use_ssl = True,\n",
    "    verify_certs = False,\n",
    "    timeout=100\n",
    ")\n",
    "#check status\n",
    "print(client.info())"
   ]
  },
  {
   "cell_type": "markdown",
   "metadata": {},
   "source": [
    "<h3>Knn Vector Search<h3>"
   ]
  },
  {
   "cell_type": "code",
   "execution_count": 4,
   "metadata": {},
   "outputs": [
    {
     "name": "stderr",
     "output_type": "stream",
     "text": [
      "model.safetensors: 100%|██████████| 1.34G/1.34G [04:15<00:00, 5.24MB/s]\n",
      "pytorch_model.bin: 100%|██████████| 1.34G/1.34G [04:37<00:00, 4.83MB/s]\n",
      "sentence_bert_config.json: 100%|██████████| 57.0/57.0 [00:00<?, ?B/s]\n",
      "special_tokens_map.json: 100%|██████████| 125/125 [00:00<?, ?B/s] \n",
      "tokenizer.json: 100%|██████████| 711k/711k [00:00<00:00, 4.29MB/s]\n",
      "tokenizer_config.json: 100%|██████████| 314/314 [00:00<?, ?B/s] \n",
      "vocab.txt: 100%|██████████| 232k/232k [00:00<00:00, 6.23MB/s]\n",
      "modules.json: 100%|██████████| 387/387 [00:00<?, ?B/s] \n"
     ]
    }
   ],
   "source": [
    "model_name = 'intfloat/e5-large-v2'\n",
    "model = SentenceTransformer(model_name)"
   ]
  },
  {
   "cell_type": "code",
   "execution_count": 26,
   "metadata": {},
   "outputs": [],
   "source": [
    "query = \"During fiscal 2007, what was the tax benefit recognized by the Company related to the disposition of its German operations?\"\n",
    "query_vector = model.encode(\"query: \"+query)"
   ]
  },
  {
   "cell_type": "code",
   "execution_count": 27,
   "metadata": {},
   "outputs": [
    {
     "name": "stderr",
     "output_type": "stream",
     "text": [
      "C:\\Users\\Admin\\AppData\\Local\\Packages\\PythonSoftwareFoundation.Python.3.11_qbz5n2kfra8p0\\LocalCache\\local-packages\\Python311\\site-packages\\urllib3\\connectionpool.py:1099: InsecureRequestWarning: Unverified HTTPS request is being made to host 'localhost'. Adding certificate verification is strongly advised. See: https://urllib3.readthedocs.io/en/latest/advanced-usage.html#tls-warnings\n",
      "  warnings.warn(\n"
     ]
    }
   ],
   "source": [
    "knn_search_body = {\n",
    "    \"size\": 5,  # Number of nearest neighbors to retrieve\n",
    "    \"query\": {\n",
    "        \"knn\": {\n",
    "            \"vector\": {\n",
    "                \"vector\": query_vector,\n",
    "                \"k\": 1  # Number of nearest neighbors to retrieve\n",
    "            }\n",
    "        }\n",
    "    }\n",
    "}\n",
    "\n",
    "# Execute the search\n",
    "response = client.search(index=\"wmt_financial_e5_512\", body=knn_search_body)"
   ]
  },
  {
   "cell_type": "code",
   "execution_count": 29,
   "metadata": {},
   "outputs": [
    {
     "name": "stdout",
     "output_type": "stream",
     "text": [
      "['as follows : income from continuing operations before income taxes and minority interest by jurisdiction is as follows ( in millions ) : income from continuing operations before income taxes and minority interest by jurisdiction is as follows ( in millions ) : united states income taxes have not been provided on accumulated but undistributed earnings of its non - u. s. subsidiaries of $ 10. 7 billion and $ 8. 7 billion as of january 31, 2008 and 2007, respectively as the company intends to permanently reinvest these undistributed earn - ings. however, if any portion were to be distributed, the related u. s. tax liability may be reduced by foreign income taxes paid on those earn - ings. determination of the unrecognized deferred tax liability related to these undistributed earnings is not practicable because of the complexities with its hypothetical calculation. the company had foreign net operating loss carryforwards of $ 2. 9 billion at january 31, 2008 and $ 2. 3 billion at january 31, 2007. of these amounts, $ 1. 9 billion relate to pre - acquisition losses for which a valuation allowance has been recorded. any tax benefit ultimately realized upon the release of this portion of the valuation allowance will be accounted for as an adjustment to goodwill. net operating loss carryforwards of $ 1. 7 billion will expire in variousyears through 2015. in addition, the company had other deferred tax assets of $ 0. 5 billion at january 31, 2008 and 2007, for which any benefit would be accounted for as an adjustment to goodwill. see note 13, recent accounting pronouncements, for the impact of statement of financial accounting standards no. 141 ( r ), business combinations with regard to accounting for tax benefits acquired in a business combination. during fiscal 2007, the company recorded a pretax loss of $ 918 million on the disposition of its german operations. in addition, the com - pany recognized a tax benefit of $ 126 million related to this transac - tion. the company recorded an additional loss on this disposition of $ 153 million during fiscal year 2008. see note 6, acquisitions and disposals, for additional information about this transaction. the company plans to deduct the tax loss realized on the disposition of its german operations as an ordinary worthless stock deduction. final resolution of the amount and character of the deduction may result in the recognition of additional tax benefits of up to $ 1. 7 billion which may be included in']\n"
     ]
    }
   ],
   "source": [
    "text_result = [chunk[\"_source\"][\"text\"] for chunk in response[\"hits\"][\"hits\"]]\n",
    "print(text_result)"
   ]
  },
  {
   "cell_type": "markdown",
   "metadata": {},
   "source": [
    "<h3>Text Search<h3>"
   ]
  },
  {
   "cell_type": "code",
   "execution_count": 13,
   "metadata": {},
   "outputs": [
    {
     "name": "stderr",
     "output_type": "stream",
     "text": [
      "C:\\Users\\Admin\\AppData\\Local\\Packages\\PythonSoftwareFoundation.Python.3.11_qbz5n2kfra8p0\\LocalCache\\local-packages\\Python311\\site-packages\\urllib3\\connectionpool.py:1099: InsecureRequestWarning: Unverified HTTPS request is being made to host 'localhost'. Adding certificate verification is strongly advised. See: https://urllib3.readthedocs.io/en/latest/advanced-usage.html#tls-warnings\n",
      "  warnings.warn(\n"
     ]
    }
   ],
   "source": [
    "text_query = \"Second, we are committed throughout the organization to leverage expenses and improve productivity. Our goal remains ery clear: we will grow operating expenses slower than sales and grow operating income faster than sales. By lowering expenses, pssing those savings on to customers, bringing more customers in our doors, and selling more merchandise, we’re reenergizing the “productivity loop” that’s been so vital to Walmart throughout our history. We will do even more to leverage the scale, expenses and expertise of our total company all around the world. We’ll continue to make investments in technology that are clearly driving greater efficiency throughout our company. And we plan to move even quicker and be a more innovative compan\"\n",
    "\n",
    "k = 3\n",
    "\n",
    "text_search_body = {\n",
    "    \"size\": k, \n",
    "    \"explain\": True,\n",
    "    \"query\": {\n",
    "        \"match\": {\n",
    "            \"text\": text_query  \n",
    "        }\n",
    "    }\n",
    "}\n",
    "\n",
    "response = client.search(index=\"wmt_financial_e5_512\", body=text_search_body)\n"
   ]
  },
  {
   "cell_type": "code",
   "execution_count": 12,
   "metadata": {},
   "outputs": [
    {
     "name": "stdout",
     "output_type": "stream",
     "text": [
      "Score: 115.09949, Text: . more than anyone in our company, our store and club associates take care of our customers and members, and they make incredible contributions to our success. im pleased with the progress that weve already made on diversity and inclusion, and especially with our global womens strategy. we are championing opportunities for women to advance in walmart, and to develop women at all levels throughout the company. driving the productivity loop delivering everyday low prices is premised on everyday low cost. there is no doubt that the pro - ductivity loop is back in walmarts dna. over the past two years, i have personally talked a lot about the productivity loop and its importance. we are very proud that we have leveraged operating expenses for two consecutive years. walmart is operating for less, so we can sell for less and drive increased sales. and we are just getting started. last october, we committed to reducing operating expenses as a percentage of sales by at least 100 basis points over five years. to achieve that, we are bringing even more discipline and focus to being as productive and efficient as possible. just as impor - tant, we are rekindling the spirit of innovation that walmart has been known for throughout our history. we want to drive full global leverage throughout such areas as information systems, sourcing, business processes and shared services. winning in global ecommerce e - commerce will become even more important to serving customers in the coming years. in the u. s. and the u. k., we operate successful online businesses, and our brazil and canada e - commerce businesses are growing rapidly. with a trusted brand operating more than 10, 000 stores and serving 200 million customers weekly, walmart has the assets to build on and deliver a multichannel experiencein all of our markets. were investing in people and capabilities. last year, we launched @ walmartlabs and acquired some strong talent in social and mobile media. we plan to continue our investments to leverage additional opportunities in e - commerce. this year, pending government approval, we plan to increase our investment to 51 percent in yihaodian, a fast - growing e - commerce website in china. reinvigorating our customer - focused culture the customer is # 1 in the walmart culture, and we are putting tremendous effort into understanding customers and serving them in new ways. our global customer insights group is developing world - class analytics to identify customer trends and support merchandising and marketing decision - making within the business. at the same time, i am emphasizing\n",
      "Score: 113.28102, Text: : walmart continuing to expand into new channels so customers can shop and experience walmart when, where and how they want ; walmart growing operating expenses slower than sales and operating income faster than sales ; walmart doing even more to leverage the size, scale, expenses and expertise of the total company ; walmart continuing to make investments in technology ; walmart planning to move quickly and being a more innovative company ; walmart expanding our commitment to inclusion and providing career opportunities to associates ; walmart building on our leading in sustain - ability through continued work on its sustainable product index and new commitment to reduce greenhouse gas emissions ; walmart living and upholding our culture, showing that we respect individual people, putting customers first and driving changes need to be an even better company, and walmart making the absolute most of our opportunity to lead as a retailer, as a company and as people. forward - looking statements appear elsewhere in this annual report : under the caption walmart u. s. saving customers money so they can live better and relate to managements expectations that growth will come from additional penetration into more metropolitan markets, as well as new formats and stronger integration with our online business and for global sourcing initiatives to strengthen our walmart u. s. segments efforts to drive down the cost of goods and pass the savings on to customers. moreover, forward - looking statements appear under the captionwalmart international growing globally to serve more customers and relate to managements expectations for our international segment to continue an aggressive pace through acquisitions and strong organic growth and to grow in our international segments countries by win - ning locally. in addition, a forward - looking statement appears under the caption walmart helping people live better worldwide regarding driving product innovation, increasing supply chain transparency and creating a single source for product sustainability. the forward - looking statements described above are identified by the use in such statements of one or more of the words or phrases anticipate, could reduce, expect, grow, is expected, may be reduced, may continue, plan, will always put, will be, will be included, will be paid, will be recorded, will be resolved, will build, will come, will continue, will do, will drive, will expand, will grow, will live and uphold, will show, will strengthen, would increase, and other similar words or phrases. similarly, descriptions of our objectives, strategies, plans, goals or targets are also forward - looking statements. these statements discuss, among other things, expected growth, future revenues, future cash flows,\n",
      "Score: 104.21791, Text: looking to the future, i share that optimism. there is no limit to the difference walmart associates can make for our share - holders, customers and the world around us. walmart u. s. achieved positive comparable store sales for fiscal 2012, having posted an increase in customer traffic for the fourth quarter. net sales surpassed $ 264 billion, increasing 1. 5 percent, while operating income grew to $ 20. 4 billion, a 2. 2 percent increase from the prior year. we improved our performance by aligning our strategy with the needs of todays customer and by operating more efficiently. the expanded merchandise assortment and improved in - stock levels, coupled with strong price leadership and service from our associates, continues to resonate with customers. a broader assortment. customers appreciate the opportunity to rely on walmart for a one - stop shopping experience, so we added back more than 10, 000 products across hundreds of merchandise categories during the past year. we work with suppliers to be the first to offer new innovative products and continue to fine - tune our offerings. we offer the right mix of national brands, private brands and opening price point products. we also improved in - stock levels, so customers can count on walmart more than ever. $ 2 billion investment, funded by expense reductions and productivity initiatives, to further lower prices for customers. a more efficient organization. edlp is the result of our everyday low cost ( edlc ) philosophy. we lower costs by reducing expenses, increasing productivity and leveraging technology to improve efficiency throughout our supply chain and our operations. this year, we are accelerating and adding many efficiency measures, as we invest the savings to further lower prices. delivering everyday low price ( edlp ). we reinvigorated our fundamental price promise : provide low prices day - in and day - out on the broadest assortment. our price message, backed by the strongest ad match policy in the industry, ensures that we are driving price separation with competitors. the certainty of great values throughout the store has been fundamental to walmart for 50 years. fulfilling that brand promise inspires customer trust and loyalty. this february, we kicked off a two - year, formats and channels that serve every need. we continue to invest in growth through a variety of channels our core supercenters, smaller formats such as neighborhood market and walmart express, and ecommerce. our online business continues to grow, driven by strong sales in site to store and pick up today, which provide shopping alternatives to walmart customers. our foundation : humble beginnings with store 1\n"
     ]
    }
   ],
   "source": [
    "hits = response['hits']['hits']\n",
    "for hit in hits:\n",
    "    source = hit['_source']\n",
    "    print(f\"Score: {hit['_score']}, Text: {source['text']}\")"
   ]
  }
 ],
 "metadata": {
  "kernelspec": {
   "display_name": "Python 3",
   "language": "python",
   "name": "python3"
  },
  "language_info": {
   "codemirror_mode": {
    "name": "ipython",
    "version": 3
   },
   "file_extension": ".py",
   "mimetype": "text/x-python",
   "name": "python",
   "nbconvert_exporter": "python",
   "pygments_lexer": "ipython3",
   "version": "3.11.7"
  }
 },
 "nbformat": 4,
 "nbformat_minor": 2
}
