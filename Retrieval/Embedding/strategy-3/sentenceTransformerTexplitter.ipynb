{
 "cells": [
  {
   "cell_type": "markdown",
   "id": "2f20263e-8813-4a89-a1a2-bf6e4b4b5bfc",
   "metadata": {},
   "source": [
    "<h1>Installs</h1>\n",
    "- This file prepares the data such that we can upload it to opensearch (So that we can have vecotrs and metadata all in one DB). We use the same e5 model as in strategy_1 but chunk the data with the SentenceTransformersTokenTextSplitter method. "
   ]
  },
  {
   "cell_type": "code",
   "execution_count": 1,
   "id": "6abada0f-1fcb-4f45-a041-42e87d3f0f69",
   "metadata": {
    "scrolled": true
   },
   "outputs": [
    {
     "name": "stdout",
     "output_type": "stream",
     "text": [
      "Requirement already satisfied: pinecone-client in c:\\users\\hrida\\appdata\\local\\programs\\python\\python311\\lib\\site-packages (2.2.4)\n",
      "Requirement already satisfied: requests>=2.19.0 in c:\\users\\hrida\\appdata\\local\\programs\\python\\python311\\lib\\site-packages (from pinecone-client) (2.31.0)\n",
      "Requirement already satisfied: pyyaml>=5.4 in c:\\users\\hrida\\appdata\\local\\programs\\python\\python311\\lib\\site-packages (from pinecone-client) (6.0.1)\n",
      "Requirement already satisfied: loguru>=0.5.0 in c:\\users\\hrida\\appdata\\local\\programs\\python\\python311\\lib\\site-packages (from pinecone-client) (0.7.2)\n",
      "Requirement already satisfied: typing-extensions>=3.7.4 in c:\\users\\hrida\\appdata\\local\\programs\\python\\python311\\lib\\site-packages (from pinecone-client) (4.8.0)\n",
      "Requirement already satisfied: dnspython>=2.0.0 in c:\\users\\hrida\\appdata\\local\\programs\\python\\python311\\lib\\site-packages (from pinecone-client) (2.4.2)\n",
      "Requirement already satisfied: python-dateutil>=2.5.3 in c:\\users\\hrida\\appdata\\local\\programs\\python\\python311\\lib\\site-packages (from pinecone-client) (2.8.2)\n",
      "Requirement already satisfied: urllib3>=1.21.1 in c:\\users\\hrida\\appdata\\local\\programs\\python\\python311\\lib\\site-packages (from pinecone-client) (1.26.16)\n",
      "Requirement already satisfied: tqdm>=4.64.1 in c:\\users\\hrida\\appdata\\local\\programs\\python\\python311\\lib\\site-packages (from pinecone-client) (4.66.1)\n",
      "Requirement already satisfied: numpy>=1.22.0 in c:\\users\\hrida\\appdata\\local\\programs\\python\\python311\\lib\\site-packages (from pinecone-client) (1.24.3)\n",
      "Requirement already satisfied: colorama>=0.3.4 in c:\\users\\hrida\\appdata\\local\\programs\\python\\python311\\lib\\site-packages (from loguru>=0.5.0->pinecone-client) (0.4.6)\n",
      "Requirement already satisfied: win32-setctime>=1.0.0 in c:\\users\\hrida\\appdata\\local\\programs\\python\\python311\\lib\\site-packages (from loguru>=0.5.0->pinecone-client) (1.1.0)\n",
      "Requirement already satisfied: six>=1.5 in c:\\users\\hrida\\appdata\\local\\programs\\python\\python311\\lib\\site-packages (from python-dateutil>=2.5.3->pinecone-client) (1.16.0)\n",
      "Requirement already satisfied: charset-normalizer<4,>=2 in c:\\users\\hrida\\appdata\\local\\programs\\python\\python311\\lib\\site-packages (from requests>=2.19.0->pinecone-client) (3.2.0)\n",
      "Requirement already satisfied: idna<4,>=2.5 in c:\\users\\hrida\\appdata\\local\\programs\\python\\python311\\lib\\site-packages (from requests>=2.19.0->pinecone-client) (3.4)\n",
      "Requirement already satisfied: certifi>=2017.4.17 in c:\\users\\hrida\\appdata\\local\\programs\\python\\python311\\lib\\site-packages (from requests>=2.19.0->pinecone-client) (2023.7.22)\n",
      "Requirement already satisfied: faunadb in c:\\users\\hrida\\appdata\\local\\programs\\python\\python311\\lib\\site-packages (4.5.1)\n",
      "Requirement already satisfied: iso8601 in c:\\users\\hrida\\appdata\\local\\programs\\python\\python311\\lib\\site-packages (from faunadb) (2.1.0)\n",
      "Requirement already satisfied: requests in c:\\users\\hrida\\appdata\\local\\programs\\python\\python311\\lib\\site-packages (from faunadb) (2.31.0)\n",
      "Requirement already satisfied: future in c:\\users\\hrida\\appdata\\local\\programs\\python\\python311\\lib\\site-packages (from faunadb) (0.18.3)\n",
      "Requirement already satisfied: httpx[http2] in c:\\users\\hrida\\appdata\\local\\programs\\python\\python311\\lib\\site-packages (from faunadb) (0.26.0)\n",
      "Requirement already satisfied: anyio in c:\\users\\hrida\\appdata\\local\\programs\\python\\python311\\lib\\site-packages (from httpx[http2]->faunadb) (4.2.0)\n",
      "Requirement already satisfied: certifi in c:\\users\\hrida\\appdata\\local\\programs\\python\\python311\\lib\\site-packages (from httpx[http2]->faunadb) (2023.7.22)\n",
      "Requirement already satisfied: httpcore==1.* in c:\\users\\hrida\\appdata\\local\\programs\\python\\python311\\lib\\site-packages (from httpx[http2]->faunadb) (1.0.2)\n",
      "Requirement already satisfied: idna in c:\\users\\hrida\\appdata\\local\\programs\\python\\python311\\lib\\site-packages (from httpx[http2]->faunadb) (3.4)\n",
      "Requirement already satisfied: sniffio in c:\\users\\hrida\\appdata\\local\\programs\\python\\python311\\lib\\site-packages (from httpx[http2]->faunadb) (1.3.0)\n",
      "Requirement already satisfied: h2<5,>=3 in c:\\users\\hrida\\appdata\\local\\programs\\python\\python311\\lib\\site-packages (from httpx[http2]->faunadb) (4.1.0)\n",
      "Requirement already satisfied: h11<0.15,>=0.13 in c:\\users\\hrida\\appdata\\local\\programs\\python\\python311\\lib\\site-packages (from httpcore==1.*->httpx[http2]->faunadb) (0.14.0)\n",
      "Requirement already satisfied: charset-normalizer<4,>=2 in c:\\users\\hrida\\appdata\\local\\programs\\python\\python311\\lib\\site-packages (from requests->faunadb) (3.2.0)\n",
      "Requirement already satisfied: urllib3<3,>=1.21.1 in c:\\users\\hrida\\appdata\\local\\programs\\python\\python311\\lib\\site-packages (from requests->faunadb) (1.26.16)\n",
      "Requirement already satisfied: hyperframe<7,>=6.0 in c:\\users\\hrida\\appdata\\local\\programs\\python\\python311\\lib\\site-packages (from h2<5,>=3->httpx[http2]->faunadb) (6.0.1)\n",
      "Requirement already satisfied: hpack<5,>=4.0 in c:\\users\\hrida\\appdata\\local\\programs\\python\\python311\\lib\\site-packages (from h2<5,>=3->httpx[http2]->faunadb) (4.0.0)\n",
      "Requirement already satisfied: ndg-httpsclient in c:\\users\\hrida\\appdata\\local\\programs\\python\\python311\\lib\\site-packages (0.5.1)\n",
      "Requirement already satisfied: PyOpenSSL in c:\\users\\hrida\\appdata\\local\\programs\\python\\python311\\lib\\site-packages (from ndg-httpsclient) (23.3.0)\n",
      "Requirement already satisfied: pyasn1>=0.1.1 in c:\\users\\hrida\\appdata\\local\\programs\\python\\python311\\lib\\site-packages (from ndg-httpsclient) (0.5.0)\n",
      "Requirement already satisfied: cryptography<42,>=41.0.5 in c:\\users\\hrida\\appdata\\local\\programs\\python\\python311\\lib\\site-packages (from PyOpenSSL->ndg-httpsclient) (41.0.7)\n",
      "Requirement already satisfied: cffi>=1.12 in c:\\users\\hrida\\appdata\\local\\programs\\python\\python311\\lib\\site-packages (from cryptography<42,>=41.0.5->PyOpenSSL->ndg-httpsclient) (1.16.0)\n",
      "Requirement already satisfied: pycparser in c:\\users\\hrida\\appdata\\local\\programs\\python\\python311\\lib\\site-packages (from cffi>=1.12->cryptography<42,>=41.0.5->PyOpenSSL->ndg-httpsclient) (2.21)\n",
      "Requirement already satisfied: pyopenssl in c:\\users\\hrida\\appdata\\local\\programs\\python\\python311\\lib\\site-packages (23.3.0)\n",
      "Requirement already satisfied: cryptography<42,>=41.0.5 in c:\\users\\hrida\\appdata\\local\\programs\\python\\python311\\lib\\site-packages (from pyopenssl) (41.0.7)\n",
      "Requirement already satisfied: cffi>=1.12 in c:\\users\\hrida\\appdata\\local\\programs\\python\\python311\\lib\\site-packages (from cryptography<42,>=41.0.5->pyopenssl) (1.16.0)\n",
      "Requirement already satisfied: pycparser in c:\\users\\hrida\\appdata\\local\\programs\\python\\python311\\lib\\site-packages (from cffi>=1.12->cryptography<42,>=41.0.5->pyopenssl) (2.21)\n",
      "Requirement already satisfied: pyasn1 in c:\\users\\hrida\\appdata\\local\\programs\\python\\python311\\lib\\site-packages (0.5.0)\n",
      "Requirement already satisfied: sentence-transformers in c:\\users\\hrida\\appdata\\local\\programs\\python\\python311\\lib\\site-packages (2.2.2)\n",
      "Collecting sentence-transformers\n",
      "  Downloading sentence_transformers-2.3.1-py3-none-any.whl.metadata (11 kB)\n",
      "Requirement already satisfied: transformers<5.0.0,>=4.32.0 in c:\\users\\hrida\\appdata\\local\\programs\\python\\python311\\lib\\site-packages (from sentence-transformers) (4.36.2)\n",
      "Requirement already satisfied: tqdm in c:\\users\\hrida\\appdata\\local\\programs\\python\\python311\\lib\\site-packages (from sentence-transformers) (4.66.1)\n",
      "Requirement already satisfied: torch>=1.11.0 in c:\\users\\hrida\\appdata\\local\\programs\\python\\python311\\lib\\site-packages (from sentence-transformers) (2.0.1)\n",
      "Requirement already satisfied: numpy in c:\\users\\hrida\\appdata\\local\\programs\\python\\python311\\lib\\site-packages (from sentence-transformers) (1.24.3)\n",
      "Requirement already satisfied: scikit-learn in c:\\users\\hrida\\appdata\\local\\programs\\python\\python311\\lib\\site-packages (from sentence-transformers) (1.3.1)\n",
      "Requirement already satisfied: scipy in c:\\users\\hrida\\appdata\\local\\programs\\python\\python311\\lib\\site-packages (from sentence-transformers) (1.11.2)\n",
      "Requirement already satisfied: nltk in c:\\users\\hrida\\appdata\\local\\programs\\python\\python311\\lib\\site-packages (from sentence-transformers) (3.8.1)\n",
      "Requirement already satisfied: sentencepiece in c:\\users\\hrida\\appdata\\local\\programs\\python\\python311\\lib\\site-packages (from sentence-transformers) (0.1.99)\n",
      "Requirement already satisfied: huggingface-hub>=0.15.1 in c:\\users\\hrida\\appdata\\local\\programs\\python\\python311\\lib\\site-packages (from sentence-transformers) (0.20.1)\n",
      "Requirement already satisfied: Pillow in c:\\users\\hrida\\appdata\\local\\programs\\python\\python311\\lib\\site-packages (from sentence-transformers) (10.0.1)\n",
      "Requirement already satisfied: filelock in c:\\users\\hrida\\appdata\\local\\programs\\python\\python311\\lib\\site-packages (from huggingface-hub>=0.15.1->sentence-transformers) (3.12.4)\n",
      "Requirement already satisfied: fsspec>=2023.5.0 in c:\\users\\hrida\\appdata\\local\\programs\\python\\python311\\lib\\site-packages (from huggingface-hub>=0.15.1->sentence-transformers) (2023.10.0)\n",
      "Requirement already satisfied: requests in c:\\users\\hrida\\appdata\\local\\programs\\python\\python311\\lib\\site-packages (from huggingface-hub>=0.15.1->sentence-transformers) (2.31.0)\n",
      "Requirement already satisfied: pyyaml>=5.1 in c:\\users\\hrida\\appdata\\local\\programs\\python\\python311\\lib\\site-packages (from huggingface-hub>=0.15.1->sentence-transformers) (6.0.1)\n",
      "Requirement already satisfied: typing-extensions>=3.7.4.3 in c:\\users\\hrida\\appdata\\local\\programs\\python\\python311\\lib\\site-packages (from huggingface-hub>=0.15.1->sentence-transformers) (4.8.0)\n",
      "Requirement already satisfied: packaging>=20.9 in c:\\users\\hrida\\appdata\\local\\programs\\python\\python311\\lib\\site-packages (from huggingface-hub>=0.15.1->sentence-transformers) (23.2)\n",
      "Requirement already satisfied: sympy in c:\\users\\hrida\\appdata\\local\\programs\\python\\python311\\lib\\site-packages (from torch>=1.11.0->sentence-transformers) (1.12)\n",
      "Requirement already satisfied: networkx in c:\\users\\hrida\\appdata\\local\\programs\\python\\python311\\lib\\site-packages (from torch>=1.11.0->sentence-transformers) (3.1)\n",
      "Requirement already satisfied: jinja2 in c:\\users\\hrida\\appdata\\local\\programs\\python\\python311\\lib\\site-packages (from torch>=1.11.0->sentence-transformers) (3.1.2)\n",
      "Requirement already satisfied: colorama in c:\\users\\hrida\\appdata\\local\\programs\\python\\python311\\lib\\site-packages (from tqdm->sentence-transformers) (0.4.6)\n",
      "Requirement already satisfied: regex!=2019.12.17 in c:\\users\\hrida\\appdata\\local\\programs\\python\\python311\\lib\\site-packages (from transformers<5.0.0,>=4.32.0->sentence-transformers) (2023.10.3)\n",
      "Requirement already satisfied: tokenizers<0.19,>=0.14 in c:\\users\\hrida\\appdata\\local\\programs\\python\\python311\\lib\\site-packages (from transformers<5.0.0,>=4.32.0->sentence-transformers) (0.15.0)\n",
      "Requirement already satisfied: safetensors>=0.3.1 in c:\\users\\hrida\\appdata\\local\\programs\\python\\python311\\lib\\site-packages (from transformers<5.0.0,>=4.32.0->sentence-transformers) (0.4.1)\n",
      "Requirement already satisfied: click in c:\\users\\hrida\\appdata\\local\\programs\\python\\python311\\lib\\site-packages (from nltk->sentence-transformers) (8.1.7)\n",
      "Requirement already satisfied: joblib in c:\\users\\hrida\\appdata\\local\\programs\\python\\python311\\lib\\site-packages (from nltk->sentence-transformers) (1.3.2)\n",
      "Requirement already satisfied: threadpoolctl>=2.0.0 in c:\\users\\hrida\\appdata\\local\\programs\\python\\python311\\lib\\site-packages (from scikit-learn->sentence-transformers) (3.2.0)\n",
      "Requirement already satisfied: MarkupSafe>=2.0 in c:\\users\\hrida\\appdata\\local\\programs\\python\\python311\\lib\\site-packages (from jinja2->torch>=1.11.0->sentence-transformers) (2.1.3)\n",
      "Requirement already satisfied: charset-normalizer<4,>=2 in c:\\users\\hrida\\appdata\\local\\programs\\python\\python311\\lib\\site-packages (from requests->huggingface-hub>=0.15.1->sentence-transformers) (3.2.0)\n",
      "Requirement already satisfied: idna<4,>=2.5 in c:\\users\\hrida\\appdata\\local\\programs\\python\\python311\\lib\\site-packages (from requests->huggingface-hub>=0.15.1->sentence-transformers) (3.4)\n",
      "Requirement already satisfied: urllib3<3,>=1.21.1 in c:\\users\\hrida\\appdata\\local\\programs\\python\\python311\\lib\\site-packages (from requests->huggingface-hub>=0.15.1->sentence-transformers) (1.26.16)\n",
      "Requirement already satisfied: certifi>=2017.4.17 in c:\\users\\hrida\\appdata\\local\\programs\\python\\python311\\lib\\site-packages (from requests->huggingface-hub>=0.15.1->sentence-transformers) (2023.7.22)\n",
      "Requirement already satisfied: mpmath>=0.19 in c:\\users\\hrida\\appdata\\local\\programs\\python\\python311\\lib\\site-packages (from sympy->torch>=1.11.0->sentence-transformers) (1.3.0)\n",
      "Downloading sentence_transformers-2.3.1-py3-none-any.whl (132 kB)\n",
      "   ---------------------------------------- 0.0/132.8 kB ? eta -:--:--\n",
      "   ---------------------------------------- 132.8/132.8 kB 7.7 MB/s eta 0:00:00\n",
      "Installing collected packages: sentence-transformers\n",
      "  Attempting uninstall: sentence-transformers\n",
      "    Found existing installation: sentence-transformers 2.2.2\n",
      "    Uninstalling sentence-transformers-2.2.2:\n",
      "      Successfully uninstalled sentence-transformers-2.2.2\n",
      "Successfully installed sentence-transformers-2.3.1\n",
      "Requirement already satisfied: transformers in c:\\users\\hrida\\appdata\\local\\programs\\python\\python311\\lib\\site-packages (4.36.2)\n",
      "Requirement already satisfied: filelock in c:\\users\\hrida\\appdata\\local\\programs\\python\\python311\\lib\\site-packages (from transformers) (3.12.4)\n",
      "Requirement already satisfied: huggingface-hub<1.0,>=0.19.3 in c:\\users\\hrida\\appdata\\local\\programs\\python\\python311\\lib\\site-packages (from transformers) (0.20.1)\n",
      "Requirement already satisfied: numpy>=1.17 in c:\\users\\hrida\\appdata\\local\\programs\\python\\python311\\lib\\site-packages (from transformers) (1.24.3)\n",
      "Requirement already satisfied: packaging>=20.0 in c:\\users\\hrida\\appdata\\local\\programs\\python\\python311\\lib\\site-packages (from transformers) (23.2)\n",
      "Requirement already satisfied: pyyaml>=5.1 in c:\\users\\hrida\\appdata\\local\\programs\\python\\python311\\lib\\site-packages (from transformers) (6.0.1)\n",
      "Requirement already satisfied: regex!=2019.12.17 in c:\\users\\hrida\\appdata\\local\\programs\\python\\python311\\lib\\site-packages (from transformers) (2023.10.3)\n",
      "Requirement already satisfied: requests in c:\\users\\hrida\\appdata\\local\\programs\\python\\python311\\lib\\site-packages (from transformers) (2.31.0)\n",
      "Requirement already satisfied: tokenizers<0.19,>=0.14 in c:\\users\\hrida\\appdata\\local\\programs\\python\\python311\\lib\\site-packages (from transformers) (0.15.0)\n",
      "Requirement already satisfied: safetensors>=0.3.1 in c:\\users\\hrida\\appdata\\local\\programs\\python\\python311\\lib\\site-packages (from transformers) (0.4.1)\n",
      "Requirement already satisfied: tqdm>=4.27 in c:\\users\\hrida\\appdata\\local\\programs\\python\\python311\\lib\\site-packages (from transformers) (4.66.1)\n",
      "Requirement already satisfied: fsspec>=2023.5.0 in c:\\users\\hrida\\appdata\\local\\programs\\python\\python311\\lib\\site-packages (from huggingface-hub<1.0,>=0.19.3->transformers) (2023.10.0)\n",
      "Requirement already satisfied: typing-extensions>=3.7.4.3 in c:\\users\\hrida\\appdata\\local\\programs\\python\\python311\\lib\\site-packages (from huggingface-hub<1.0,>=0.19.3->transformers) (4.8.0)\n",
      "Requirement already satisfied: colorama in c:\\users\\hrida\\appdata\\local\\programs\\python\\python311\\lib\\site-packages (from tqdm>=4.27->transformers) (0.4.6)\n",
      "Requirement already satisfied: charset-normalizer<4,>=2 in c:\\users\\hrida\\appdata\\local\\programs\\python\\python311\\lib\\site-packages (from requests->transformers) (3.2.0)\n",
      "Requirement already satisfied: idna<4,>=2.5 in c:\\users\\hrida\\appdata\\local\\programs\\python\\python311\\lib\\site-packages (from requests->transformers) (3.4)\n",
      "Requirement already satisfied: urllib3<3,>=1.21.1 in c:\\users\\hrida\\appdata\\local\\programs\\python\\python311\\lib\\site-packages (from requests->transformers) (1.26.16)\n",
      "Requirement already satisfied: certifi>=2017.4.17 in c:\\users\\hrida\\appdata\\local\\programs\\python\\python311\\lib\\site-packages (from requests->transformers) (2023.7.22)\n"
     ]
    }
   ],
   "source": [
    "! pip install pinecone-client\n",
    "! pip install faunadb\n",
    "! pip install ndg-httpsclient\n",
    "! pip install pyopenssl\n",
    "! pip install pyasn1\n",
    "! pip install -U sentence-transformers\n",
    "! pip install transformers"
   ]
  },
  {
   "cell_type": "markdown",
   "id": "1f7c76d1-be5b-494b-8091-c5007faf2ea4",
   "metadata": {},
   "source": [
    "\n",
    "<h1>Extract Data from .csv</h1>\n",
    "*   AB = Column that corresponds to the text of the abstract\n"
   ]
  },
  {
   "cell_type": "code",
   "execution_count": 2,
   "id": "d510cc2f-78b5-4f07-aeea-d4d852f61c39",
   "metadata": {},
   "outputs": [],
   "source": [
    "import csv\n",
    "from itertools import islice\n",
    "import uuid\n",
    "\n",
    "# Load data, store abstract text\n",
    "batch_input = []\n",
    "with open('../../INLPT_data/articles.csv', encoding = \"utf-8\") as csvfile:\n",
    "    reader = csv.DictReader(csvfile)\n",
    "    for row in reader:\n",
    "        batch_input.append([row[\"AB\"],row[\"PMID\"],row[\"TI\"],row[\"PB\"],row[\"FAU\"],row[\"FED\"],row[\"DP\"],row[\"OTO\"], row[\"OT\"],row[\"OWN\"], row[\"LR\"], row[\"JT\"], row[\"MH\"],row[\"ISBN\"]])"
   ]
  },
  {
   "cell_type": "code",
   "execution_count": 3,
   "id": "c2dcb141-3b5e-49d2-bb8d-55a065104196",
   "metadata": {},
   "outputs": [
    {
     "name": "stdout",
     "output_type": "stream",
     "text": [
      "57560\n"
     ]
    }
   ],
   "source": [
    "print(len(batch_input))"
   ]
  },
  {
   "cell_type": "markdown",
   "id": "fcbf2a0c-3517-46b2-848f-4d5ccef9055a",
   "metadata": {},
   "source": [
    "\n",
    "<h1>Embedd Data from .csv</h1>\n",
    "1. DIvide each abstract into chunks such that each chunks text will be tokenized to max 512 Tokens\n"
   ]
  },
  {
   "cell_type": "code",
   "execution_count": 4,
   "id": "2bf2e2df",
   "metadata": {},
   "outputs": [
    {
     "name": "stderr",
     "output_type": "stream",
     "text": [
      "c:\\Users\\HRida\\AppData\\Local\\Programs\\Python\\Python311\\Lib\\site-packages\\tqdm\\auto.py:21: TqdmWarning: IProgress not found. Please update jupyter and ipywidgets. See https://ipywidgets.readthedocs.io/en/stable/user_install.html\n",
      "  from .autonotebook import tqdm as notebook_tqdm\n"
     ]
    }
   ],
   "source": [
    "from sentence_transformers import SentenceTransformer\n",
    "from transformers import AutoTokenizer\n",
    "from langchain.text_splitter import SentenceTransformersTokenTextSplitter\n",
    "import re\n",
    "import tqdm"
   ]
  },
  {
   "cell_type": "code",
   "execution_count": 5,
   "id": "988a2a59-fa72-4a27-93d9-3ef89f6b92a9",
   "metadata": {
    "scrolled": true
   },
   "outputs": [
    {
     "name": "stderr",
     "output_type": "stream",
     "text": [
      "No sentence-transformers model found with name intfloat/e5-base-v2. Creating a new one with MEAN pooling.\n",
      "config.json: 100%|██████████| 650/650 [00:00<00:00, 649kB/s]\n",
      "c:\\Users\\HRida\\AppData\\Local\\Programs\\Python\\Python311\\Lib\\site-packages\\huggingface_hub\\file_download.py:149: UserWarning: `huggingface_hub` cache-system uses symlinks by default to efficiently store duplicated files but your machine does not support them in C:\\Users\\HRida\\.cache\\huggingface\\hub\\models--intfloat--e5-base-v2. Caching files will still work but in a degraded version that might require more space on your disk. This warning can be disabled by setting the `HF_HUB_DISABLE_SYMLINKS_WARNING` environment variable. For more details, see https://huggingface.co/docs/huggingface_hub/how-to-cache#limitations.\n",
      "To support symlinks on Windows, you either need to activate Developer Mode or to run Python as an administrator. In order to see activate developer mode, see this article: https://docs.microsoft.com/en-us/windows/apps/get-started/enable-your-device-for-development\n",
      "  warnings.warn(message)\n",
      "model.safetensors: 100%|██████████| 438M/438M [02:57<00:00, 2.47MB/s] \n",
      "tokenizer_config.json: 100%|██████████| 314/314 [00:00<?, ?B/s] \n",
      "vocab.txt: 100%|██████████| 232k/232k [00:00<00:00, 2.05MB/s]\n",
      "tokenizer.json: 100%|██████████| 711k/711k [00:00<00:00, 1.92MB/s]\n",
      "special_tokens_map.json: 100%|██████████| 125/125 [00:00<00:00, 125kB/s]\n"
     ]
    },
    {
     "name": "stdout",
     "output_type": "stream",
     "text": [
      "SentenceTransformer(\n",
      "  (0): Transformer({'max_seq_length': 512, 'do_lower_case': False}) with Transformer model: BertModel \n",
      "  (1): Pooling({'word_embedding_dimension': 768, 'pooling_mode_cls_token': False, 'pooling_mode_mean_tokens': True, 'pooling_mode_max_tokens': False, 'pooling_mode_mean_sqrt_len_tokens': False, 'pooling_mode_weightedmean_tokens': False, 'pooling_mode_lasttoken': False})\n",
      ")\n",
      "BertTokenizerFast(name_or_path='intfloat/e5-base-v2', vocab_size=30522, model_max_length=512, is_fast=True, padding_side='right', truncation_side='right', special_tokens={'unk_token': '[UNK]', 'sep_token': '[SEP]', 'pad_token': '[PAD]', 'cls_token': '[CLS]', 'mask_token': '[MASK]'}, clean_up_tokenization_spaces=True),  added_tokens_decoder={\n",
      "\t0: AddedToken(\"[PAD]\", rstrip=False, lstrip=False, single_word=False, normalized=False, special=True),\n",
      "\t100: AddedToken(\"[UNK]\", rstrip=False, lstrip=False, single_word=False, normalized=False, special=True),\n",
      "\t101: AddedToken(\"[CLS]\", rstrip=False, lstrip=False, single_word=False, normalized=False, special=True),\n",
      "\t102: AddedToken(\"[SEP]\", rstrip=False, lstrip=False, single_word=False, normalized=False, special=True),\n",
      "\t103: AddedToken(\"[MASK]\", rstrip=False, lstrip=False, single_word=False, normalized=False, special=True),\n",
      "}\n"
     ]
    }
   ],
   "source": [
    "#embed data\n",
    "# model = SentenceTransformer('pritamdeka/S-PubMedBert-MS-MARCO')\n",
    "# tokenizer = AutoTokenizer.from_pretrained('pritamdeka/S-PubMedBert-MS-MARCO')\n",
    "# max_token_size = 350\n",
    "# print(model)\n",
    "# print(tokenizer)\n",
    "\n",
    "model_name = 'intfloat/e5-base-v2'\n",
    "model = SentenceTransformer(model_name)\n",
    "tokenizer = AutoTokenizer.from_pretrained(model_name)\n",
    "max_token_size = 512\n",
    "print(model)\n",
    "print(tokenizer)\n"
   ]
  },
  {
   "cell_type": "code",
   "execution_count": 6,
   "id": "bb97f0fe-f082-49b0-8eca-1194fba8d01a",
   "metadata": {},
   "outputs": [
    {
     "name": "stderr",
     "output_type": "stream",
     "text": [
      "modules.json: 100%|██████████| 387/387 [00:00<00:00, 386kB/s]\n",
      "README.md: 100%|██████████| 67.6k/67.6k [00:00<00:00, 834kB/s]"
     ]
    },
    {
     "name": "stderr",
     "output_type": "stream",
     "text": [
      "\n",
      "sentence_bert_config.json: 100%|██████████| 57.0/57.0 [00:00<?, ?B/s]\n",
      "1_Pooling/config.json: 100%|██████████| 200/200 [00:00<?, ?B/s] "
     ]
    },
    {
     "name": "stdout",
     "output_type": "stream",
     "text": [
      "512\n"
     ]
    },
    {
     "name": "stderr",
     "output_type": "stream",
     "text": [
      "\n"
     ]
    }
   ],
   "source": [
    "splitter = SentenceTransformersTokenTextSplitter(\n",
    "    model_name=model_name,  \n",
    "    chunk_overlap=20,  \n",
    ")\n",
    "print(splitter.maximum_tokens_per_chunk)"
   ]
  },
  {
   "cell_type": "code",
   "execution_count": 7,
   "id": "30639f20-b9eb-440a-a81e-9e169dc5f52f",
   "metadata": {},
   "outputs": [],
   "source": [
    "chunked_data = []\n",
    "\n",
    "#Chunk abstract text, prepare for emebdding\n",
    "for abstract_text in batch_input:\n",
    "    chunked_data.append(splitter.split_text(text=abstract_text[0]))"
   ]
  },
  {
   "cell_type": "code",
   "execution_count": 8,
   "id": "f78af6bb-c891-4ed2-af47-31115b22a025",
   "metadata": {},
   "outputs": [
    {
     "name": "stdout",
     "output_type": "stream",
     "text": [
      "57560\n"
     ]
    }
   ],
   "source": [
    "print(len(chunked_data))"
   ]
  },
  {
   "cell_type": "code",
   "execution_count": 9,
   "id": "9b9ac7db-072e-475c-b86e-da7c4560c0e0",
   "metadata": {},
   "outputs": [],
   "source": [
    "chunks = []\n",
    "\n",
    "#flatten data and append metadata to each chunk -> list of [chunk, PMID, TI, PB, FAU, FED,DP,OTO,ISBN]\n",
    "for id, abstract in enumerate(chunked_data):\n",
    "    for chunk in abstract:\n",
    "        chunks.append([chunk, batch_input[id][1],batch_input[id][2],batch_input[id][3],batch_input[id][4],batch_input[id][5],batch_input[id][6],batch_input[id][7],batch_input[id][8],batch_input[id][9],batch_input[id][10],batch_input[id][11],batch_input[id][12]])"
   ]
  },
  {
   "cell_type": "code",
   "execution_count": 11,
   "id": "32477dfe",
   "metadata": {},
   "outputs": [
    {
     "data": {
      "text/plain": [
       "['clinical characteristics : cask disorders include a spectrum of phenotypes in both females and males. two main types of clinical presentation are seen : microcephalywith pontine and cerebellar hypoplasia ( micpch ), generally associated withpathogenic loss - of - function variants in cask. x - linked intellectual disability ( xlid ) with or without nystagmus, generally associated with hypomorphic caskpathogenic variants. micpch is typically seen in females with moderate - to - severeintellectual disability, progressive microcephaly with or without ophthalmologicanomalies, and sensorineural hearing loss. most are able to sit independently ; 20 % - 25 % attain the ability to walk ; language is nearly absent in most. neurologicfeatures may include axial hypotonia, hypertonia / spasticity of the extremities, and dystonia or other movement disorders. nearly 40 % have seizures by age tenyears. behaviors may include sleep disturbances, hand stereotypies, and selfbiting. micpch in males may occur with or without severe epileptic encephalopathyin addition to severe - to - profound developmental delay. when seizures are presentthey occur early and may be intractable. in individuals and families with milder ( i. e., hypomorphic ) pathogenic variants, the clinical phenotype is usually thatof xlid with or without nystagmus and additional clinical features. males havemild - to - severe intellectual disability, with or without nystagmus and otherocular features. females typically have normal intelligence with some displayingmild - to - severe intellectual disability with or without ocular features. diagnosis / testing : the diagnosis of a cask disorder is established in a femalewho is heterozygous for a cask pathogenic variant and in a male who is hemizygousfor a cask pathogenic variant on molecular genetic testing. rarely, affectedmales have a mosaic pathogenic variant. management : treatment of manifestations : treatment is symptomatic and includes standard management of developmental delayand intellectual disability issues ; medication for seizures ; nutritional support ; use of physiotherapy ; and treatment of abnormal vision or hearing loss. geneticcounseling : cask disorders are inherited in an x - linked manner. risk to thefamily members of a proband with a cas',\n",
       " '24278995',\n",
       " 'CASK Disorders.',\n",
       " 'University of Washington, Seattle',\n",
       " 'Moog, Ute|Kutsche, Kerstin',\n",
       " 'Adam, Margaret P|Feldman, Jerry|Mirzaa, Ghayda M|Pagon, Roberta A|Wallace, Stephanie E|Bean, Lora JH|Gripp, Karen W|Amemiya, Anne',\n",
       " '1993',\n",
       " 'NLM',\n",
       " 'Intellectual Disability and Microcephaly with Pontine and Cerebellar Hypoplasia (MICPCH)|X-Linked Intellectual Disability (XLID) with or without Nystagmus|Peripheral plasma membrane protein CASK|CASK|CASK Disorders',\n",
       " '',\n",
       " '',\n",
       " '',\n",
       " '']"
      ]
     },
     "execution_count": 11,
     "metadata": {},
     "output_type": "execute_result"
    }
   ],
   "source": [
    "\n",
    "chunks[0]"
   ]
  },
  {
   "cell_type": "code",
   "execution_count": 15,
   "id": "3547959f",
   "metadata": {},
   "outputs": [
    {
     "data": {
      "text/plain": [
       "2293"
      ]
     },
     "execution_count": 15,
     "metadata": {},
     "output_type": "execute_result"
    }
   ],
   "source": [
    "len(chunks[0][0])"
   ]
  },
  {
   "cell_type": "code",
   "execution_count": 21,
   "id": "765cc436",
   "metadata": {},
   "outputs": [
    {
     "name": "stdout",
     "output_type": "stream",
     "text": [
      "4 517\n"
     ]
    }
   ],
   "source": [
    "lengths = [len(tokenizer.encode(chunk[0])) for chunk in chunks]\n",
    "print(min(lengths), max(lengths))"
   ]
  },
  {
   "cell_type": "code",
   "execution_count": 10,
   "id": "6c861d53-2b47-4424-a5ba-c808ce588247",
   "metadata": {
    "scrolled": true
   },
   "outputs": [
    {
     "name": "stdout",
     "output_type": "stream",
     "text": [
      "62333\n"
     ]
    }
   ],
   "source": [
    "print(len(chunks))"
   ]
  },
  {
   "cell_type": "code",
   "execution_count": null,
   "id": "cbc13bf1-384f-4fa5-b600-71dfc17b1f8b",
   "metadata": {},
   "outputs": [],
   "source": [
    "#add embedding vector of chunk to the list\n",
    "for chunk in tqdm(chunks):\n",
    "    chunk.insert(0, model.encode(chunk[0]).tolist())"
   ]
  },
  {
   "cell_type": "code",
   "execution_count": null,
   "id": "3198a944-f850-4880-b83e-b16971544633",
   "metadata": {},
   "outputs": [],
   "source": [
    "import pickle\n",
    "\n",
    "#save List in File. This file will be later accesssed and the data will be uploaded to open search\n",
    "\n",
    "path = \"./data/data.txt\"\n",
    "with open(path, 'wb') as file:\n",
    "    pickle.dump(chunks, file)"
   ]
  }
 ],
 "metadata": {
  "kernelspec": {
   "display_name": "Python 3 (ipykernel)",
   "language": "python",
   "name": "python3"
  },
  "language_info": {
   "codemirror_mode": {
    "name": "ipython",
    "version": 3
   },
   "file_extension": ".py",
   "mimetype": "text/x-python",
   "name": "python",
   "nbconvert_exporter": "python",
   "pygments_lexer": "ipython3",
   "version": "3.11.5"
  }
 },
 "nbformat": 4,
 "nbformat_minor": 5
}
