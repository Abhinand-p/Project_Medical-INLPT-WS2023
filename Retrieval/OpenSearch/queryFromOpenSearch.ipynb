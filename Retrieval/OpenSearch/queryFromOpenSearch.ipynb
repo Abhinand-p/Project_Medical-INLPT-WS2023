{
 "cells": [
  {
   "cell_type": "markdown",
   "metadata": {},
   "source": [
    "<h3>How to query from opeSearch<h3>"
   ]
  },
  {
   "cell_type": "code",
   "execution_count": 1,
   "metadata": {},
   "outputs": [
    {
     "name": "stderr",
     "output_type": "stream",
     "text": [
      "C:\\Users\\Admin\\AppData\\Local\\Packages\\PythonSoftwareFoundation.Python.3.11_qbz5n2kfra8p0\\LocalCache\\local-packages\\Python311\\site-packages\\tqdm\\auto.py:21: TqdmWarning: IProgress not found. Please update jupyter and ipywidgets. See https://ipywidgets.readthedocs.io/en/stable/user_install.html\n",
      "  from .autonotebook import tqdm as notebook_tqdm\n"
     ]
    }
   ],
   "source": [
    "from sentence_transformers import SentenceTransformer\n",
    "from opensearchpy import OpenSearch"
   ]
  },
  {
   "cell_type": "markdown",
   "metadata": {},
   "source": [
    "<h3>Connect to Open Search<h3>"
   ]
  },
  {
   "cell_type": "code",
   "execution_count": 2,
   "metadata": {},
   "outputs": [
    {
     "name": "stdout",
     "output_type": "stream",
     "text": [
      "{'name': 'opensearch-node1_med', 'cluster_name': 'opensearch-cluster', 'cluster_uuid': 'DbPN66O6QdGNwomjb1ufRQ', 'version': {'distribution': 'opensearch', 'number': '2.11.1', 'build_type': 'tar', 'build_hash': '6b1986e964d440be9137eba1413015c31c5a7752', 'build_date': '2023-11-29T21:43:10.135035992Z', 'build_snapshot': False, 'lucene_version': '9.7.0', 'minimum_wire_compatibility_version': '7.10.0', 'minimum_index_compatibility_version': '7.0.0'}, 'tagline': 'The OpenSearch Project: https://opensearch.org/'}\n"
     ]
    },
    {
     "name": "stderr",
     "output_type": "stream",
     "text": [
      "C:\\Users\\Admin\\AppData\\Local\\Packages\\PythonSoftwareFoundation.Python.3.11_qbz5n2kfra8p0\\LocalCache\\local-packages\\Python311\\site-packages\\opensearchpy\\connection\\http_urllib3.py:208: UserWarning: Connecting to https://localhost:9200 using SSL with verify_certs=False is insecure.\n",
      "  warnings.warn(\n",
      "C:\\Users\\Admin\\AppData\\Local\\Packages\\PythonSoftwareFoundation.Python.3.11_qbz5n2kfra8p0\\LocalCache\\local-packages\\Python311\\site-packages\\urllib3\\connectionpool.py:1099: InsecureRequestWarning: Unverified HTTPS request is being made to host 'localhost'. Adding certificate verification is strongly advised. See: https://urllib3.readthedocs.io/en/latest/advanced-usage.html#tls-warnings\n",
      "  warnings.warn(\n"
     ]
    }
   ],
   "source": [
    "#Initialize connection to opensearch\n",
    "host = 'localhost'\n",
    "port = 9200\n",
    "auth = ('admin', 'admin') \n",
    "\n",
    "client = OpenSearch(\n",
    "    hosts = [{'host': host, 'port': port}],\n",
    "    http_auth = auth,\n",
    "    use_ssl = True,\n",
    "    verify_certs = False,\n",
    "    timeout=100\n",
    ")\n",
    "#check status\n",
    "print(client.info())"
   ]
  },
  {
   "cell_type": "markdown",
   "metadata": {},
   "source": [
    "<h3>Knn Vector Search<h3>"
   ]
  },
  {
   "cell_type": "code",
   "execution_count": 4,
   "metadata": {},
   "outputs": [],
   "source": [
    "model_name = 'intfloat/e5-base-v2'\n",
    "model = SentenceTransformer(model_name)"
   ]
  },
  {
   "cell_type": "code",
   "execution_count": 5,
   "metadata": {},
   "outputs": [],
   "source": [
    "query = \"What is a cask disorder?\"\n",
    "query_vector = model.encode(\"query: \"+query)"
   ]
  },
  {
   "cell_type": "code",
   "execution_count": 7,
   "metadata": {},
   "outputs": [
    {
     "name": "stderr",
     "output_type": "stream",
     "text": [
      "C:\\Users\\Admin\\AppData\\Local\\Packages\\PythonSoftwareFoundation.Python.3.11_qbz5n2kfra8p0\\LocalCache\\local-packages\\Python311\\site-packages\\urllib3\\connectionpool.py:1099: InsecureRequestWarning: Unverified HTTPS request is being made to host 'localhost'. Adding certificate verification is strongly advised. See: https://urllib3.readthedocs.io/en/latest/advanced-usage.html#tls-warnings\n",
      "  warnings.warn(\n"
     ]
    }
   ],
   "source": [
    "knn_search_body = {\n",
    "    \"size\": 5,  # Number of nearest neighbors to retrieve\n",
    "    \"query\": {\n",
    "        \"knn\": {\n",
    "            \"vector\": {\n",
    "                \"vector\": query_vector,\n",
    "                \"k\": 1  # Number of nearest neighbors to retrieve\n",
    "            }\n",
    "        }\n",
    "    }\n",
    "}\n",
    "\n",
    "# Execute the search\n",
    "response = client.search(index=\"med_data_strategy_3\", body=knn_search_body)"
   ]
  },
  {
   "cell_type": "code",
   "execution_count": 8,
   "metadata": {},
   "outputs": [
    {
     "name": "stdout",
     "output_type": "stream",
     "text": [
      "['passage: clinical characteristics : cask disorders include a spectrum of phenotypes in both females and males. two main types of clinical presentation are seen : microcephalywith pontine and cerebellar hypoplasia ( micpch ), generally associated withpathogenic loss - of - function variants in cask. x - linked intellectual disability ( xlid ) with or without nystagmus, generally associated with hypomorphic caskpathogenic variants. micpch is typically seen in females with moderate - to - severeintellectual disability, progressive microcephaly with or without ophthalmologicanomalies, and sensorineural hearing loss. most are able to sit independently ; 20 % - 25 % attain the ability to walk ; language is nearly absent in most. neurologicfeatures may include axial hypotonia, hypertonia / spasticity of the extremities, and dystonia or other movement disorders. nearly 40 % have seizures by age tenyears. behaviors may include sleep disturbances, hand stereotypies, and selfbiting. micpch in males may occur with or without severe epileptic encephalopathyin addition to severe - to - profound developmental delay. when seizures are presentthey occur early and may be intractable. in individuals and families with milder ( i. e., hypomorphic ) pathogenic variants, the clinical phenotype is usually thatof xlid with or without nystagmus and additional clinical features. males havemild - to - severe intellectual disability, with or without nystagmus and otherocular features. females typically have normal intelligence with some displayingmild - to - severe intellectual disability with or without ocular features. diagnosis / testing : the diagnosis of a cask disorder is established in a femalewho is heterozygous for a cask pathogenic variant and in a male who is hemizygousfor a cask pathogenic variant on molecular genetic testing. rarely, affectedmales have a mosaic pathogenic variant. management : treatment of manifestations : treatment is symptomatic and includes standard management of developmental delayand intellectual disability issues ; medication for seizures ; nutritional support ; use of physiotherapy ; and treatment of abnormal vision or hearing loss. geneticcounseling : cask disorders are inherited in an x - linked manner. risk to thefamily members of a proband with a cas', \"passage: objective : the aim of this study was to develop and validate a new questionnaire designed to measure caregiver skills that, in line with the interpersonalcomponent of the cognitive interpersonal maintenance model ( schmidt and treasure, j br j clin psychol, 45, 343 - 366, 2006 ), may be helpful in the support of peoplewith anorexia nervosa ( an ). a further aim is to assess whether this scale issensitive to change following skills - based caregiver interventions. method : thecaregiver skills ( cask ) scale was developed by a group of clinicians andcaregivers. preliminary versions of the scale devised for both caregivers andparents were given at baseline and at follow - up after two studies of caregiverinterventions ( a clinical trial of the effectiveness of guided self - help andtraining workshops ). exploratory and confirmatory factor analyses ( cfa ) were usedto test the factorial structure of the cask scale. cronbach's alpha was used tomeasure internal consistency of the cask scales. results : exploratory factoranalysis suggested a six component solution ( bigger picture, self - care, biting - your - tongue, insight and acceptance, emotional intelligence andfrustration tolerance ) and this model was confirmed with cfa. significantclinically relevant correlations were found between the cask scales and otherstandardised measures of caregivers'attitudes and behaviours. furthermore, greater improvements on abilities measured by the cask scale were found incaregivers who received skills - training than caregivers assigned to a'treatmentas usual'condition. discussion : the cask scale is a measure of the fidelity ofinterventions based on the cognitive interpersonal maintenance model and issensitive to the intensity of the intervention provided.\", 'passage: ethanol consumption remains a major concern at a world scale in terms of transient or irreversible neurological consequences, with motor, cognitive, orsocial consequences. cerebellum is particularly vulnerable to ethanol, bothduring development and at the adult stage. in adults, chronic alcoholism elicits, in particular, cerebellar vermis atrophy, the anterior lobe of the cerebellumbeing highly vulnerable. alcohol - dependent patients develop gait ataxia and lowerlimb postural tremor. prenatal exposure to ethanol causes fetal alcohol spectrumdisorder ( fasd ), characterized by permanent congenital disabilities in both motorand cognitive domains, including deficits in general intelligence, attention, executive function, language, memory, visual perception, and communication / socialskills. children with fasd show volume deficits in the anterior lobules relatedto sensorimotor functions ( lobules i, ii, iv, v, and vi ), and lobules related tocognitive functions ( crus ii and lobule viib ). various mechanisms underlieethanol - induced cell death, with oxidative stress and endoplasmic reticulum ( er ) stress being the main pro - apoptotic mechanisms in alcohol abuse and fasd. oxidative and er stresses are induced by thiamine deficiency, especially inalcohol abuse, and are exacerbated by neuroinflammation, particularly in fetalethanol exposure. furthermore, exposure to ethanol during the prenatal periodinterferes with neurotransmission, neurotrophic factors and retinoicacid - mediated signaling, and reduces the number of microglia, which diminishesexpected cerebellar development. we highlight the spectrum of cerebellar damageinduced by ethanol, emphasizing physiological - based clinical profiles andbiological mechanisms leading to cell death and disorganized development.', 'passage: background : international research showed that common mental disorders such as depression, anxiety, social anxiety, stress, alexithymia and having insecureattachment styles are risk factors for alcohol use disorder ( aud ). our objectivewas to study the factors associated withaud in a sample of the lebanesepopulation. methods : during the period lasting from november 2017 to march 2018, a sample of 789 lebanese participants agreed to contribute to a cross - sectionalstudy ( 53. 23 % males ). alcohol use disorder was assessed using the alcohol usedisorder identification test ( audit ). results : a high risk of aud was associatedwith higher alexithymia ( ora = 1. 030 ; ci 1. 009 - 1. 051 ), depression ( ora = 1. 076 ; ci 1. 050 - 1. 103 ) and suicidal ideation ( ora = 1. 253 ; ci 1. 026 - 1. 531 ) in asignificant manner. in opposition, a higher number of kids ( ora = 0. 863 ; ci0. 752 - 0. 991 ), being a female ( ora = 0. 460 ; ci 0. 305 - 0. 694 ) and higher emotionalmanagement ( ora = 0. 962 ; ci 0. 937 - 0. 988 ) were significantly associated with loweraud risk. a cluster analysis derived three mutually exclusive clusters. cluster 1formed 45. 4 % of the sample and assembled people with psychological difficulties ( work fatigue and high stress, high emotional work fatigue and low emotionalintelligence, low self - esteem, high social phobia, high alexithymia ) ; cluster 2formed 34. 4 % of the sample and assembled people with high wellbeing ( low suicidalideation, low emotional work fatigue, depression and anxiety, high emotionalintelligence, high self - esteem and low social phobia ) ; whereas cluster 3 formed20. 2 % of the sample and represented people with mental dysfunction ( high anxietyand depression, high suicidal ideation, low self - esteem and high social phobia, low emotional intelligence, high emotional work fatigue ). people withpsychological difficulties ( cluster 1 ) ( beta = 5. 547 ; ci 4. 430 - 6. 663 ), and peoplein distress ( cluster 3 ) ( beta = 7. 455 ; ci 5. 945 - 8. 965 ) were associated withhigher audit scores', 'passage: the ribosomal protein s6 kinase, 90 kb, polypeptide 3 gene ( rps6ka3 ) is responsible for coffin - lowry syndrome ( cls ), which is characterized byintellectual disability ( id ) and facial and bony abnormalities. this gene alsoaffects nonsyndromic x - linked id and nonsyndromic x - linked id without bonyabnormalities. two families have been previously reported to have geneticmicroduplication including rps6ka3. in the present study, we usedarray - comparative genomic hybridization ( cgh ) analysis with agilent human genomecgh 180k and detected a 584 - kb microduplication spanning 19. 92 - 20. 50 mb ofxp22. 12 ( including rps6ka3 ) in the members of one family, including threebrothers, two sisters, and their mother. the 15 - year - old male proband and one ofhis brothers had mild id and localization - related epilepsy, whereas his otherbrother presented borderline intelligence quotient ( iq ) andattention - deficit - hyperactivity disorder ( adhd ). one sister presented pervasivedevelopment disorder ( pdd ). analysis of this family suggests that rps6ka3duplication is responsible for mild id, adhd, and localization - related epilepsy, and possibly for pdd.']\n"
     ]
    }
   ],
   "source": [
    "text_result = [chunk[\"_source\"][\"text\"] for chunk in response[\"hits\"][\"hits\"]]\n",
    "print(text_result)"
   ]
  },
  {
   "cell_type": "markdown",
   "metadata": {},
   "source": [
    "<h3>Sparse Retrieval<h3>"
   ]
  },
  {
   "cell_type": "code",
   "execution_count": 13,
   "metadata": {},
   "outputs": [
    {
     "name": "stderr",
     "output_type": "stream",
     "text": [
      "C:\\Users\\Admin\\AppData\\Local\\Packages\\PythonSoftwareFoundation.Python.3.11_qbz5n2kfra8p0\\LocalCache\\local-packages\\Python311\\site-packages\\urllib3\\connectionpool.py:1099: InsecureRequestWarning: Unverified HTTPS request is being made to host 'localhost'. Adding certificate verification is strongly advised. See: https://urllib3.readthedocs.io/en/latest/advanced-usage.html#tls-warnings\n",
      "  warnings.warn(\n"
     ]
    }
   ],
   "source": [
    "text_query = \"Second, we are committed throughout the organization to leverage expenses and improve productivity. Our goal remains ery clear: we will grow operating expenses slower than sales and grow operating income faster than sales. By lowering expenses, pssing those savings on to customers, bringing more customers in our doors, and selling more merchandise, we’re reenergizing the “productivity loop” that’s been so vital to Walmart throughout our history. We will do even more to leverage the scale, expenses and expertise of our total company all around the world. We’ll continue to make investments in technology that are clearly driving greater efficiency throughout our company. And we plan to move even quicker and be a more innovative compan\"\n",
    "\n",
    "k = 3\n",
    "\n",
    "text_search_body = {\n",
    "    \"size\": k, \n",
    "    \"explain\": True,\n",
    "    \"query\": {\n",
    "        \"match\": {\n",
    "            \"text\": text_query  \n",
    "        }\n",
    "    }\n",
    "}\n",
    "\n",
    "response = client.search(index=\"wmt_financial_e5_512\", body=text_search_body)\n"
   ]
  },
  {
   "cell_type": "code",
   "execution_count": 12,
   "metadata": {},
   "outputs": [
    {
     "name": "stdout",
     "output_type": "stream",
     "text": [
      "Score: 115.09949, Text: . more than anyone in our company, our store and club associates take care of our customers and members, and they make incredible contributions to our success. im pleased with the progress that weve already made on diversity and inclusion, and especially with our global womens strategy. we are championing opportunities for women to advance in walmart, and to develop women at all levels throughout the company. driving the productivity loop delivering everyday low prices is premised on everyday low cost. there is no doubt that the pro - ductivity loop is back in walmarts dna. over the past two years, i have personally talked a lot about the productivity loop and its importance. we are very proud that we have leveraged operating expenses for two consecutive years. walmart is operating for less, so we can sell for less and drive increased sales. and we are just getting started. last october, we committed to reducing operating expenses as a percentage of sales by at least 100 basis points over five years. to achieve that, we are bringing even more discipline and focus to being as productive and efficient as possible. just as impor - tant, we are rekindling the spirit of innovation that walmart has been known for throughout our history. we want to drive full global leverage throughout such areas as information systems, sourcing, business processes and shared services. winning in global ecommerce e - commerce will become even more important to serving customers in the coming years. in the u. s. and the u. k., we operate successful online businesses, and our brazil and canada e - commerce businesses are growing rapidly. with a trusted brand operating more than 10, 000 stores and serving 200 million customers weekly, walmart has the assets to build on and deliver a multichannel experiencein all of our markets. were investing in people and capabilities. last year, we launched @ walmartlabs and acquired some strong talent in social and mobile media. we plan to continue our investments to leverage additional opportunities in e - commerce. this year, pending government approval, we plan to increase our investment to 51 percent in yihaodian, a fast - growing e - commerce website in china. reinvigorating our customer - focused culture the customer is # 1 in the walmart culture, and we are putting tremendous effort into understanding customers and serving them in new ways. our global customer insights group is developing world - class analytics to identify customer trends and support merchandising and marketing decision - making within the business. at the same time, i am emphasizing\n",
      "Score: 113.28102, Text: : walmart continuing to expand into new channels so customers can shop and experience walmart when, where and how they want ; walmart growing operating expenses slower than sales and operating income faster than sales ; walmart doing even more to leverage the size, scale, expenses and expertise of the total company ; walmart continuing to make investments in technology ; walmart planning to move quickly and being a more innovative company ; walmart expanding our commitment to inclusion and providing career opportunities to associates ; walmart building on our leading in sustain - ability through continued work on its sustainable product index and new commitment to reduce greenhouse gas emissions ; walmart living and upholding our culture, showing that we respect individual people, putting customers first and driving changes need to be an even better company, and walmart making the absolute most of our opportunity to lead as a retailer, as a company and as people. forward - looking statements appear elsewhere in this annual report : under the caption walmart u. s. saving customers money so they can live better and relate to managements expectations that growth will come from additional penetration into more metropolitan markets, as well as new formats and stronger integration with our online business and for global sourcing initiatives to strengthen our walmart u. s. segments efforts to drive down the cost of goods and pass the savings on to customers. moreover, forward - looking statements appear under the captionwalmart international growing globally to serve more customers and relate to managements expectations for our international segment to continue an aggressive pace through acquisitions and strong organic growth and to grow in our international segments countries by win - ning locally. in addition, a forward - looking statement appears under the caption walmart helping people live better worldwide regarding driving product innovation, increasing supply chain transparency and creating a single source for product sustainability. the forward - looking statements described above are identified by the use in such statements of one or more of the words or phrases anticipate, could reduce, expect, grow, is expected, may be reduced, may continue, plan, will always put, will be, will be included, will be paid, will be recorded, will be resolved, will build, will come, will continue, will do, will drive, will expand, will grow, will live and uphold, will show, will strengthen, would increase, and other similar words or phrases. similarly, descriptions of our objectives, strategies, plans, goals or targets are also forward - looking statements. these statements discuss, among other things, expected growth, future revenues, future cash flows,\n",
      "Score: 104.21791, Text: looking to the future, i share that optimism. there is no limit to the difference walmart associates can make for our share - holders, customers and the world around us. walmart u. s. achieved positive comparable store sales for fiscal 2012, having posted an increase in customer traffic for the fourth quarter. net sales surpassed $ 264 billion, increasing 1. 5 percent, while operating income grew to $ 20. 4 billion, a 2. 2 percent increase from the prior year. we improved our performance by aligning our strategy with the needs of todays customer and by operating more efficiently. the expanded merchandise assortment and improved in - stock levels, coupled with strong price leadership and service from our associates, continues to resonate with customers. a broader assortment. customers appreciate the opportunity to rely on walmart for a one - stop shopping experience, so we added back more than 10, 000 products across hundreds of merchandise categories during the past year. we work with suppliers to be the first to offer new innovative products and continue to fine - tune our offerings. we offer the right mix of national brands, private brands and opening price point products. we also improved in - stock levels, so customers can count on walmart more than ever. $ 2 billion investment, funded by expense reductions and productivity initiatives, to further lower prices for customers. a more efficient organization. edlp is the result of our everyday low cost ( edlc ) philosophy. we lower costs by reducing expenses, increasing productivity and leveraging technology to improve efficiency throughout our supply chain and our operations. this year, we are accelerating and adding many efficiency measures, as we invest the savings to further lower prices. delivering everyday low price ( edlp ). we reinvigorated our fundamental price promise : provide low prices day - in and day - out on the broadest assortment. our price message, backed by the strongest ad match policy in the industry, ensures that we are driving price separation with competitors. the certainty of great values throughout the store has been fundamental to walmart for 50 years. fulfilling that brand promise inspires customer trust and loyalty. this february, we kicked off a two - year, formats and channels that serve every need. we continue to invest in growth through a variety of channels our core supercenters, smaller formats such as neighborhood market and walmart express, and ecommerce. our online business continues to grow, driven by strong sales in site to store and pick up today, which provide shopping alternatives to walmart customers. our foundation : humble beginnings with store 1\n"
     ]
    }
   ],
   "source": [
    "hits = response['hits']['hits']\n",
    "for hit in hits:\n",
    "    source = hit['_source']\n",
    "    print(f\"Score: {hit['_score']}, Text: {source['text']}\")"
   ]
  },
  {
   "cell_type": "markdown",
   "metadata": {},
   "source": [
    "<h3>Hybrid Search<h3>"
   ]
  },
  {
   "cell_type": "code",
   "execution_count": null,
   "metadata": {},
   "outputs": [],
   "source": [
    "url = \"/_search/pipeline/nlp_search-pipeline\"\n",
    "hybrid_search_pipeline ={\n",
    "  \"description\": \"Post processor for hybrid search\",\n",
    "  \"phase_results_processors\": [\n",
    "    {\n",
    "      \"normalization-processor\": {\n",
    "        \"normalization\": {\n",
    "          \"technique\": \"min_max\"\n",
    "        },\n",
    "        \"combination\": {\n",
    "          \"technique\": \"arithmetic_mean\",\n",
    "          \"parameters\": {\n",
    "            \"weights\": [\n",
    "              0.5,\n",
    "              0.5\n",
    "            ]\n",
    "          }\n",
    "        }\n",
    "      }\n",
    "    }\n",
    "  ]\n",
    "}\n",
    "#client.pipeline.create(\"hybrid_search_pipeline\", body=nlp_search_pipeline)\n",
    "res = client.transport.perform_request(method = \"PUT\", url = url, body = hybrid_search_pipeline) "
   ]
  },
  {
   "cell_type": "code",
   "execution_count": null,
   "metadata": {},
   "outputs": [],
   "source": [
    "query = \"Test query CASK diorder gene\"\n",
    "import voyageai\n",
    "voyageai.api_key =  \"pa-3xpcuUhVVgmOQPDBiG7ObYUA58rGn1eB1ZMaowr5xy0\" \n",
    "vo = voyageai.Client()\n",
    "\n",
    "query_embedding =  vo.embed(query, model=\"voyage-large-2\", input_type=\"document\").embeddings[0]"
   ]
  },
  {
   "cell_type": "code",
   "execution_count": null,
   "metadata": {},
   "outputs": [],
   "source": [
    "\n",
    "route = \"voyage-2-large/_search?search_pipeline=nlp_search-pipeline\"\n",
    "hybrid_search_body = {\n",
    "  \"_source\": {\n",
    "    \"exclude\": [\n",
    "      \"vector\"\n",
    "    ]\n",
    "  },\n",
    "  \"query\": {\n",
    "    \"hybrid\": {\n",
    "      \"queries\": [\n",
    "        {\n",
    "          \"match\": {\n",
    "            \"text\": {\n",
    "              \"query\": query\n",
    "            }\n",
    "          }\n",
    "        },\n",
    "        {\n",
    "          \"knn\": {                  #instead of neural do knn search since we already have our embeddings\n",
    "            \"vector\": {\n",
    "              \"vector\": query_embedding,\n",
    "              \"k\": 5\n",
    "            }\n",
    "          }\n",
    "        }\n",
    "      ]\n",
    "    }\n",
    "  }\n",
    "}\n",
    "#response = client.search(index=\"wmt_voyage-large-2-fixed\", body=hybrid_search_body, search_type=\"query_then_fetch\", pipeline = hybrid_search_pipeline,)\n",
    "ress  = client.transport.perform_request(method = \"GET\", url = route, body = hybrid_search_body) "
   ]
  }
 ],
 "metadata": {
  "kernelspec": {
   "display_name": "Python 3",
   "language": "python",
   "name": "python3"
  },
  "language_info": {
   "codemirror_mode": {
    "name": "ipython",
    "version": 3
   },
   "file_extension": ".py",
   "mimetype": "text/x-python",
   "name": "python",
   "nbconvert_exporter": "python",
   "pygments_lexer": "ipython3",
   "version": "3.9.13"
  }
 },
 "nbformat": 4,
 "nbformat_minor": 2
}
